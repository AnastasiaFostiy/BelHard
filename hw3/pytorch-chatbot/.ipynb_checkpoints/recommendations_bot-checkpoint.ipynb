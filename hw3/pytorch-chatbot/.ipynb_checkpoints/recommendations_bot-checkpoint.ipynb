{
 "cells": [
  {
   "cell_type": "code",
   "execution_count": 1,
   "id": "4a7847d1-c317-45c6-ba8e-97e731d4e6ff",
   "metadata": {},
   "outputs": [
    {
     "name": "stderr",
     "output_type": "stream",
     "text": [
      "[nltk_data] Downloading package punkt to\n",
      "[nltk_data]     /Users/anastasiyafostiy/nltk_data...\n",
      "[nltk_data]   Package punkt is already up-to-date!\n"
     ]
    }
   ],
   "source": [
    "%run nltkdwnld.py"
   ]
  },
  {
   "cell_type": "code",
   "execution_count": 3,
   "id": "0ffb716b-937f-453d-ae04-0e4a85c25c94",
   "metadata": {},
   "outputs": [
    {
     "name": "stdout",
     "output_type": "stream",
     "text": [
      "43 patterns\n",
      "11 tags: ['book_request', 'cultural_history', 'entertainment_help', 'goodbye', 'greeting', 'literature_questions', 'movie_info', 'movie_recommendation', 'music_info', 'music_suggestion', 'thanks']\n",
      "56 unique stemmed words: [\"'s\", 'a', 'ani', 'anoth', 'anyon', 'band', 'book', 'bye', 'can', 'choos', 'classic', 'cultur', 'day', 'do', 'entertain', 'fact', 'film', 'good', 'goodby', 'have', 'hello', 'help', 'hey', 'hi', 'i', 'idea', 'info', 'interest', 'is', 'later', 'listen', 'literatur', 'me', 'movi', 'music', 'must-read', 'must-se', 'need', 'novel', 'option', 'read', 'recommend', 'rock', 'see', 'should', 'some', 'someth', 'suggest', 'thank', 'that', 'there', 'to', 'watch', 'what', 'yo', 'you']\n",
      "56 11\n",
      "Epoch [100/1000], Loss: 0.3907\n",
      "Epoch [200/1000], Loss: 0.1432\n",
      "Epoch [300/1000], Loss: 0.0160\n",
      "Epoch [400/1000], Loss: 0.0059\n",
      "Epoch [500/1000], Loss: 0.0043\n",
      "Epoch [600/1000], Loss: 0.0025\n",
      "Epoch [700/1000], Loss: 0.0012\n",
      "Epoch [800/1000], Loss: 0.0008\n",
      "Epoch [900/1000], Loss: 0.0002\n",
      "Epoch [1000/1000], Loss: 0.0002\n",
      "final loss: 0.0002\n",
      "training complete. file saved to data.pth\n"
     ]
    }
   ],
   "source": [
    "%run train.py"
   ]
  },
  {
   "cell_type": "code",
   "execution_count": 1,
   "id": "71efe06b-2b3e-479a-bfb8-a12912aa7baf",
   "metadata": {},
   "outputs": [
    {
     "name": "stdout",
     "output_type": "stream",
     "text": [
      "Let's talk! (type 'The end' to exit)\n"
     ]
    },
    {
     "name": "stdin",
     "output_type": "stream",
     "text": [
      "You:  Hey!\n"
     ]
    },
    {
     "name": "stdout",
     "output_type": "stream",
     "text": [
      "IRecommend: Hello, sunshine, thanks for visiting!\n"
     ]
    },
    {
     "name": "stdin",
     "output_type": "stream",
     "text": [
      "You:  I don't know how to spend my evening. Suggest something interesting, please\n"
     ]
    },
    {
     "name": "stdout",
     "output_type": "stream",
     "text": [
      "IRecommend: I can recommend movies, music or books! Tell me your preference\n"
     ]
    },
    {
     "name": "stdin",
     "output_type": "stream",
     "text": [
      "You:  Hmm... Could you recommend a movie?\n"
     ]
    },
    {
     "name": "stdout",
     "output_type": "stream",
     "text": [
      "IRecommend: The Shawshank Redemption is a classic choice!\n"
     ]
    },
    {
     "name": "stdin",
     "output_type": "stream",
     "text": [
      "You:  Nice! But I watched it twice. Another movie recommendations?\n"
     ]
    },
    {
     "name": "stdout",
     "output_type": "stream",
     "text": [
      "IRecommend: Try watching The Dark Knight - it's one of the best superhero films\n"
     ]
    },
    {
     "name": "stdin",
     "output_type": "stream",
     "text": [
      "You:  Well... It seems like I am not into any of that\n"
     ]
    },
    {
     "name": "stdout",
     "output_type": "stream",
     "text": [
      "IRecommend: \n"
     ]
    },
    {
     "name": "stdin",
     "output_type": "stream",
     "text": [
      "You:  Did you say anything?\n"
     ]
    },
    {
     "name": "stdout",
     "output_type": "stream",
     "text": [
      "IRecommend: Pu-pu-pu, lets change the subject..!\n"
     ]
    },
    {
     "name": "stdin",
     "output_type": "stream",
     "text": [
      "You:  Tell me movie fact\n"
     ]
    },
    {
     "name": "stdout",
     "output_type": "stream",
     "text": [
      "IRecommend: Titanic starred Leonardo DiCaprio and Kate Winslet\n"
     ]
    },
    {
     "name": "stdin",
     "output_type": "stream",
     "text": [
      "You:  Cool! Want to listen to music. Any music recommendations?\n"
     ]
    },
    {
     "name": "stdout",
     "output_type": "stream",
     "text": [
      "IRecommend: If you are into emo, My Chemical Romance would be a good choice\n"
     ]
    },
    {
     "name": "stdin",
     "output_type": "stream",
     "text": [
      "You:  Hah, nice! Thank you!\n"
     ]
    },
    {
     "name": "stdout",
     "output_type": "stream",
     "text": [
      "IRecommend: Any time!\n"
     ]
    },
    {
     "name": "stdin",
     "output_type": "stream",
     "text": [
      "You:  Any music fact?\n"
     ]
    },
    {
     "name": "stdout",
     "output_type": "stream",
     "text": [
      "IRecommend: Nirvana formed in 1987 in Washington\n"
     ]
    },
    {
     "name": "stdin",
     "output_type": "stream",
     "text": [
      "You:  Cool! Recommend me a book for this evening\n"
     ]
    },
    {
     "name": "stdout",
     "output_type": "stream",
     "text": [
      "IRecommend: The good earth by Pear Buck\n"
     ]
    },
    {
     "name": "stdin",
     "output_type": "stream",
     "text": [
      "You:  Already read! Another book recommendations?\n"
     ]
    },
    {
     "name": "stdout",
     "output_type": "stream",
     "text": [
      "IRecommend: Three Comrades or Flotsam by Erich Maria Remarque hits deeply\n"
     ]
    },
    {
     "name": "stdin",
     "output_type": "stream",
     "text": [
      "You:  Thaks!\n"
     ]
    },
    {
     "name": "stdout",
     "output_type": "stream",
     "text": [
      "IRecommend: Pu-pu-pu, lets change the subject..!\n"
     ]
    },
    {
     "name": "stdin",
     "output_type": "stream",
     "text": [
      "You:  Sorry, thanks!\n"
     ]
    },
    {
     "name": "stdout",
     "output_type": "stream",
     "text": [
      "IRecommend: Any time!\n"
     ]
    },
    {
     "name": "stdin",
     "output_type": "stream",
     "text": [
      "You:  Tell me please piece of literature fact\n"
     ]
    },
    {
     "name": "stdout",
     "output_type": "stream",
     "text": [
      "IRecommend: Pride and Prejudice is set in Regency England\n"
     ]
    },
    {
     "name": "stdin",
     "output_type": "stream",
     "text": [
      "You:  It was a nice conversation, thank you!\n"
     ]
    },
    {
     "name": "stdout",
     "output_type": "stream",
     "text": [
      "IRecommend: Happy to help, my dear friend!\n"
     ]
    },
    {
     "name": "stdin",
     "output_type": "stream",
     "text": [
      "You:  Bye!\n"
     ]
    },
    {
     "name": "stdout",
     "output_type": "stream",
     "text": [
      "IRecommend: Bye! As Truman told, in case I don't see ya: good afternoon, good evening, and good night!\n"
     ]
    },
    {
     "name": "stdin",
     "output_type": "stream",
     "text": [
      "You:  The end\n"
     ]
    },
    {
     "name": "stdout",
     "output_type": "stream",
     "text": [
      "IRecommend: <3...\n"
     ]
    }
   ],
   "source": [
    "%run chat.py"
   ]
  },
  {
   "cell_type": "code",
   "execution_count": null,
   "id": "b2d4afca-cd46-405f-b10c-099400381c9c",
   "metadata": {},
   "outputs": [],
   "source": []
  }
 ],
 "metadata": {
  "kernelspec": {
   "display_name": "Python 3.11",
   "language": "python",
   "name": "python311"
  },
  "language_info": {
   "codemirror_mode": {
    "name": "ipython",
    "version": 3
   },
   "file_extension": ".py",
   "mimetype": "text/x-python",
   "name": "python",
   "nbconvert_exporter": "python",
   "pygments_lexer": "ipython3",
   "version": "3.11.9"
  }
 },
 "nbformat": 4,
 "nbformat_minor": 5
}
