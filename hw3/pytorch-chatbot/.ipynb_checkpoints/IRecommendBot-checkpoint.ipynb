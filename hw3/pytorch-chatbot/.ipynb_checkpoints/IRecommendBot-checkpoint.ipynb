{
 "cells": [
  {
   "cell_type": "code",
   "execution_count": 5,
   "id": "cc71b4d8-04b1-4374-95d8-762d3a0c6ad7",
   "metadata": {},
   "outputs": [
    {
     "name": "stderr",
     "output_type": "stream",
     "text": [
      "[nltk_data] Downloading package punkt to\n",
      "[nltk_data]     /Users/anastasiyafostiy/nltk_data...\n",
      "[nltk_data]   Package punkt is already up-to-date!\n"
     ]
    }
   ],
   "source": [
    "%run nltkdwnld.py"
   ]
  },
  {
   "cell_type": "code",
   "execution_count": 7,
   "id": "8204ec65-4403-49b9-a6a7-76db26df789b",
   "metadata": {},
   "outputs": [
    {
     "name": "stdout",
     "output_type": "stream",
     "text": [
      "43 patterns\n",
      "11 tags: ['book_request', 'cultural_history', 'entertainment_help', 'goodbye', 'greeting', 'literature_questions', 'movie_info', 'movie_recommendation', 'music_info', 'music_suggestion', 'thanks']\n",
      "56 unique stemmed words: [\"'s\", 'a', 'ani', 'anoth', 'anyon', 'band', 'book', 'bye', 'can', 'choos', 'classic', 'cultur', 'day', 'do', 'entertain', 'fact', 'film', 'good', 'goodby', 'have', 'hello', 'help', 'hey', 'hi', 'i', 'idea', 'info', 'interest', 'is', 'later', 'listen', 'literatur', 'me', 'movi', 'music', 'must-read', 'must-se', 'need', 'novel', 'option', 'read', 'recommend', 'rock', 'see', 'should', 'some', 'someth', 'suggest', 'thank', 'that', 'there', 'to', 'watch', 'what', 'yo', 'you']\n",
      "56 11\n",
      "Epoch [100/1000], Loss: 0.2021\n",
      "Epoch [200/1000], Loss: 0.0425\n",
      "Epoch [300/1000], Loss: 0.0040\n",
      "Epoch [400/1000], Loss: 0.0061\n",
      "Epoch [500/1000], Loss: 0.0057\n",
      "Epoch [600/1000], Loss: 0.0031\n",
      "Epoch [700/1000], Loss: 0.0024\n",
      "Epoch [800/1000], Loss: 0.0009\n",
      "Epoch [900/1000], Loss: 0.0003\n",
      "Epoch [1000/1000], Loss: 0.0002\n",
      "final loss: 0.0002\n",
      "training complete. file saved to data.pth\n"
     ]
    }
   ],
   "source": [
    "%run train.py"
   ]
  },
  {
   "cell_type": "code",
   "execution_count": null,
   "id": "df8e1886-706e-480d-88c0-e32bbfc05176",
   "metadata": {},
   "outputs": [],
   "source": [
    "%run chat.py"
   ]
  },
  {
   "cell_type": "code",
   "execution_count": 10,
   "id": "b5956955-4ccd-4a8b-a9f7-78f9731ceab3",
   "metadata": {},
   "outputs": [
    {
     "name": "stdout",
     "output_type": "stream",
     "text": [
      "IRecommend: Let's talk! (type 'The end' to exit)\n",
      "You: Hey!\n",
      "IRecommend: Hey hey hey!\n",
      "You: I don't know how to spend my evening. Suggest something interesting, please\n",
      "IRecommend: I can recommend movies, music or books! Tell me your preference\n",
      "You: Hmm... Could you recommend a movie?\n",
      "IRecommend: Pirates of the Caribbean - nice choice for comfy evening\n",
      "You: Nice! But I watched it twice. Another movie recommendations?\n",
      "IRecommend: You might enjoy Inception for its mind-bending plot\n",
      "You: Well... It seems like I am not into any of that\n",
      "IRecommend: Pu-pu-pu, lets change the subject..!\n",
      "You: Tell me movie fact\n",
      "IRecommend: The Godfather has a runtime of 2 hours 55 minutes\n",
      "You: Cool! Want to listen to music. Any music recommendations?\n",
      "IRecommend: If you are into emo, My Chemical Romance would be a good choice\n",
      "You: Thanks\n",
      "IRecommend: Happy to help, my dear friend!\n",
      "You: Tell me music fact\n",
      "IRecommend: Freddie Mercury was Queen's legendary frontman\n",
      "You: Okay. Suggest a good book\n",
      "IRecommend: Try The Great Gatsby for American literature at its finest\n",
      "You: Cool. Gonna read it. That's helpful\n",
      "IRecommend: Any time!\n",
      "You: Could you tell me literature fact?\n",
      "IRecommend: Captain Ahab is the protagonist of Moby Dick\n",
      "You: You made my evening. Thank you\n",
      "IRecommend: Happy to help, my dear friend!\n",
      "You: Bye\n",
      "IRecommend: See you later! Come any time to talk\n",
      "You: The end\n",
      "IRecommend: <3...\n",
      "\n"
     ]
    }
   ],
   "source": [
    "with open(\"IRecommendBot_history.txt\", \"r\") as file:\n",
    "    contents = file.read()\n",
    "\n",
    "print(contents)"
   ]
  }
 ],
 "metadata": {
  "kernelspec": {
   "display_name": "Python 3.11",
   "language": "python",
   "name": "python311"
  },
  "language_info": {
   "codemirror_mode": {
    "name": "ipython",
    "version": 3
   },
   "file_extension": ".py",
   "mimetype": "text/x-python",
   "name": "python",
   "nbconvert_exporter": "python",
   "pygments_lexer": "ipython3",
   "version": "3.11.9"
  }
 },
 "nbformat": 4,
 "nbformat_minor": 5
}
