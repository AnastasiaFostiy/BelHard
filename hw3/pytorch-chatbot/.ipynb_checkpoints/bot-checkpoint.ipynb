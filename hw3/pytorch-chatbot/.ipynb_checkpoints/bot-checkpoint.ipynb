{
 "cells": [
  {
   "cell_type": "code",
   "execution_count": 12,
   "id": "cc71b4d8-04b1-4374-95d8-762d3a0c6ad7",
   "metadata": {},
   "outputs": [
    {
     "name": "stderr",
     "output_type": "stream",
     "text": [
      "[nltk_data] Downloading package punkt to\n",
      "[nltk_data]     /Users/anastasiyafostiy/nltk_data...\n",
      "[nltk_data]   Package punkt is already up-to-date!\n"
     ]
    },
    {
     "data": {
      "text/plain": [
       "True"
      ]
     },
     "execution_count": 12,
     "metadata": {},
     "output_type": "execute_result"
    }
   ],
   "source": [
    "%run nltkdwnld.py"
   ]
  },
  {
   "cell_type": "code",
   "execution_count": 7,
   "id": "8204ec65-4403-49b9-a6a7-76db26df789b",
   "metadata": {
    "scrolled": true
   },
   "outputs": [
    {
     "name": "stdout",
     "output_type": "stream",
     "text": [
      "43 patterns\n",
      "11 tags: ['book_request', 'cultural_history', 'entertainment_help', 'goodbye', 'greeting', 'literature_questions', 'movie_info', 'movie_recommendation', 'music_info', 'music_suggestion', 'thanks']\n",
      "56 unique stemmed words: [\"'s\", 'a', 'ani', 'anoth', 'anyon', 'band', 'book', 'bye', 'can', 'choos', 'classic', 'cultur', 'day', 'do', 'entertain', 'fact', 'film', 'good', 'goodby', 'have', 'hello', 'help', 'hey', 'hi', 'i', 'idea', 'info', 'interest', 'is', 'later', 'listen', 'literatur', 'me', 'movi', 'music', 'must-read', 'must-se', 'need', 'novel', 'option', 'read', 'recommend', 'rock', 'see', 'should', 'some', 'someth', 'suggest', 'thank', 'that', 'there', 'to', 'watch', 'what', 'yo', 'you']\n",
      "56 11\n",
      "Epoch [100/1000], Loss: 0.2021\n",
      "Epoch [200/1000], Loss: 0.0425\n",
      "Epoch [300/1000], Loss: 0.0040\n",
      "Epoch [400/1000], Loss: 0.0061\n",
      "Epoch [500/1000], Loss: 0.0057\n",
      "Epoch [600/1000], Loss: 0.0031\n",
      "Epoch [700/1000], Loss: 0.0024\n",
      "Epoch [800/1000], Loss: 0.0009\n",
      "Epoch [900/1000], Loss: 0.0003\n",
      "Epoch [1000/1000], Loss: 0.0002\n",
      "final loss: 0.0002\n",
      "training complete. file saved to data.pth\n"
     ]
    }
   ],
   "source": [
    "%run train.py"
   ]
  },
  {
   "cell_type": "code",
   "execution_count": 11,
   "id": "b1e46a4d-997a-4484-ac2e-184f4590d86c",
   "metadata": {
    "scrolled": true
   },
   "outputs": [
    {
     "name": "stdout",
     "output_type": "stream",
     "text": [
      "Let's talk! (type 'The end' to exit)\n"
     ]
    },
    {
     "name": "stdin",
     "output_type": "stream",
     "text": [
      "You:  Hey!\n"
     ]
    },
    {
     "name": "stdout",
     "output_type": "stream",
     "text": [
      "IRecommend: Hey hey hey!\n"
     ]
    },
    {
     "name": "stdin",
     "output_type": "stream",
     "text": [
      "You:  I don't know how to spend my evening. Suggest something interesting, please\n"
     ]
    },
    {
     "name": "stdout",
     "output_type": "stream",
     "text": [
      "IRecommend: I have recommendations across different media formats\n"
     ]
    },
    {
     "name": "stdin",
     "output_type": "stream",
     "text": [
      "You:  Hmm... Could you recommend a movie?\n"
     ]
    },
    {
     "name": "stdout",
     "output_type": "stream",
     "text": [
      "IRecommend: You might enjoy Inception for its mind-bending plot\n"
     ]
    },
    {
     "name": "stdin",
     "output_type": "stream",
     "text": [
      "You:  Nice! But I watched it twice. Another movie recommendations?\n"
     ]
    },
    {
     "name": "stdout",
     "output_type": "stream",
     "text": [
      "IRecommend: Try watching The Dark Knight - it's one of the best superhero films\n"
     ]
    },
    {
     "name": "stdin",
     "output_type": "stream",
     "text": [
      "You:  Well... It seems like I am not into any of that\n"
     ]
    },
    {
     "name": "stdout",
     "output_type": "stream",
     "text": [
      "IRecommend: Pu-pu-pu, lets change the subject..!\n"
     ]
    },
    {
     "name": "stdin",
     "output_type": "stream",
     "text": [
      "You:  Tell me movie fact\n"
     ]
    },
    {
     "name": "stdout",
     "output_type": "stream",
     "text": [
      "IRecommend: Inception explores dream-sharing technology\n"
     ]
    },
    {
     "name": "stdin",
     "output_type": "stream",
     "text": [
      "You:  Cool! Want to listen to music. Any music recommendations?\n"
     ]
    },
    {
     "name": "stdout",
     "output_type": "stream",
     "text": [
      "IRecommend: If you are into emo, My Chemical Romance would be a good choice\n"
     ]
    },
    {
     "name": "stdin",
     "output_type": "stream",
     "text": [
      "You:  Thanks\n"
     ]
    },
    {
     "name": "stdout",
     "output_type": "stream",
     "text": [
      "IRecommend: Happy to help, my dear friend!\n"
     ]
    },
    {
     "name": "stdin",
     "output_type": "stream",
     "text": [
      "You:  Tell me music fact\n"
     ]
    },
    {
     "name": "stdout",
     "output_type": "stream",
     "text": [
      "IRecommend: Pink Floyd pioneered progressive rock\n"
     ]
    },
    {
     "name": "stdin",
     "output_type": "stream",
     "text": [
      "You:  Okay. Suggest a good book\n"
     ]
    },
    {
     "name": "stdout",
     "output_type": "stream",
     "text": [
      "IRecommend: 1984 by George Orwell remains incredibly relevant\n"
     ]
    },
    {
     "name": "stdin",
     "output_type": "stream",
     "text": [
      "You:  Cool. Gonna read it. That's helpful\n"
     ]
    },
    {
     "name": "stdout",
     "output_type": "stream",
     "text": [
      "IRecommend: My pleasure <3\n"
     ]
    },
    {
     "name": "stdin",
     "output_type": "stream",
     "text": [
      "You:  Could you tell me literature fact?\n"
     ]
    },
    {
     "name": "stdout",
     "output_type": "stream",
     "text": [
      "IRecommend: Pride and Prejudice is set in Regency England\n"
     ]
    },
    {
     "name": "stdin",
     "output_type": "stream",
     "text": [
      "You:  You made my evening. Thank you\n"
     ]
    },
    {
     "name": "stdout",
     "output_type": "stream",
     "text": [
      "IRecommend: Any time!\n"
     ]
    },
    {
     "name": "stdin",
     "output_type": "stream",
     "text": [
      "You:  Bye\n"
     ]
    },
    {
     "name": "stdout",
     "output_type": "stream",
     "text": [
      "IRecommend: Bye!\n"
     ]
    },
    {
     "name": "stdin",
     "output_type": "stream",
     "text": [
      "You:  The end\n"
     ]
    },
    {
     "name": "stdout",
     "output_type": "stream",
     "text": [
      "IRecommend: <3...\n"
     ]
    }
   ],
   "source": [
    "%run chat.py"
   ]
  }
 ],
 "metadata": {
  "kernelspec": {
   "display_name": "Python 3.11",
   "language": "python",
   "name": "python311"
  },
  "language_info": {
   "codemirror_mode": {
    "name": "ipython",
    "version": 3
   },
   "file_extension": ".py",
   "mimetype": "text/x-python",
   "name": "python",
   "nbconvert_exporter": "python",
   "pygments_lexer": "ipython3",
   "version": "3.11.9"
  }
 },
 "nbformat": 4,
 "nbformat_minor": 5
}
